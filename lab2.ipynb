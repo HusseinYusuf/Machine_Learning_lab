{
 "cells": [
  {
   "cell_type": "code",
   "execution_count": 1,
   "id": "24b6b48d",
   "metadata": {},
   "outputs": [
    {
     "name": "stdout",
     "output_type": "stream",
     "text": [
      "[1 2 3]\n"
     ]
    }
   ],
   "source": [
    "import numpy as np\n",
    "array= np.array ([1,2,3])\n",
    "print(array)"
   ]
  },
  {
   "cell_type": "code",
   "execution_count": 3,
   "id": "2f8a0290",
   "metadata": {},
   "outputs": [
    {
     "data": {
      "text/plain": [
       "(3,)"
      ]
     },
     "execution_count": 3,
     "metadata": {},
     "output_type": "execute_result"
    }
   ],
   "source": [
    "array.shape"
   ]
  },
  {
   "cell_type": "code",
   "execution_count": 4,
   "id": "4460eb5d",
   "metadata": {},
   "outputs": [
    {
     "name": "stdout",
     "output_type": "stream",
     "text": [
      "vector [ 1  2  3  4  5  6  7  8  9 10 11 12 13 14 15]\n",
      "Two dimentional array [[ 1  2  3  4  5]\n",
      " [ 6  7  8  9 10]\n",
      " [11 12 13 14 15]]\n"
     ]
    }
   ],
   "source": [
    "array2= np.array([1,2,3,4,5,6,7,8,9,10,11,12,13,14,15])\n",
    "print(\"vector\", array2)\n",
    "a=array2.reshape(3,5)\n",
    "print(\"Two dimentional array\", a)"
   ]
  },
  {
   "cell_type": "code",
   "execution_count": 5,
   "id": "b0d49578",
   "metadata": {},
   "outputs": [
    {
     "name": "stdout",
     "output_type": "stream",
     "text": [
      "shape: (3, 5)\n",
      "dimension: 2\n",
      "data type: int32\n",
      "size: 15\n",
      "type <class 'numpy.ndarray'>\n"
     ]
    }
   ],
   "source": [
    "print(\"shape:\", a.shape)\n",
    "print (\"dimension:\", a.ndim)\n",
    "print(\"data type:\", a.dtype.name)\n",
    "print(\"size:\", a.size)\n",
    "print(\"type\", type(a))"
   ]
  },
  {
   "cell_type": "code",
   "execution_count": 7,
   "id": "ff459ad4",
   "metadata": {},
   "outputs": [
    {
     "name": "stdout",
     "output_type": "stream",
     "text": [
      "[5 7 9]\n",
      "[-3 -3 -3]\n",
      "[1 4 9]\n"
     ]
    }
   ],
   "source": [
    "a=np.array([1,2,3])\n",
    "b=np.array([4,5,6])\n",
    "\n",
    "print(a+b)\n",
    "print(a-b)\n",
    "print(a**2)"
   ]
  },
  {
   "cell_type": "code",
   "execution_count": 8,
   "id": "28aa0596",
   "metadata": {},
   "outputs": [
    {
     "name": "stdout",
     "output_type": "stream",
     "text": [
      "[1 2 3]\n"
     ]
    }
   ],
   "source": [
    "a=np.array([1,2,3])\n",
    "print(a)"
   ]
  },
  {
   "cell_type": "code",
   "execution_count": 9,
   "id": "409664e9",
   "metadata": {},
   "outputs": [
    {
     "name": "stdout",
     "output_type": "stream",
     "text": [
      "[5 2 3] [5 2 3] [5 2 3]\n"
     ]
    }
   ],
   "source": [
    "b=a\n",
    "c=a\n",
    "b[0]=5\n",
    "print(a,b,c)"
   ]
  },
  {
   "cell_type": "code",
   "execution_count": 10,
   "id": "3b5837f6",
   "metadata": {},
   "outputs": [
    {
     "name": "stdout",
     "output_type": "stream",
     "text": [
      "[5 2 3]\n"
     ]
    }
   ],
   "source": [
    "d=a.copy()\n",
    "print(d)"
   ]
  },
  {
   "cell_type": "code",
   "execution_count": 12,
   "id": "d6dbc639",
   "metadata": {},
   "outputs": [
    {
     "name": "stdout",
     "output_type": "stream",
     "text": [
      "1\n"
     ]
    }
   ],
   "source": [
    "a=np.array([1,2,3,4,5,6,7])\n",
    "print(a[0])"
   ]
  },
  {
   "cell_type": "code",
   "execution_count": 13,
   "id": "5e5d1912",
   "metadata": {},
   "outputs": [
    {
     "name": "stdout",
     "output_type": "stream",
     "text": [
      "[1 2 3 4]\n"
     ]
    }
   ],
   "source": [
    "print(a[0:4])"
   ]
  },
  {
   "cell_type": "code",
   "execution_count": 14,
   "id": "1a54773f",
   "metadata": {},
   "outputs": [
    {
     "name": "stdout",
     "output_type": "stream",
     "text": [
      "[7 6 5 4 3 2 1]\n"
     ]
    }
   ],
   "source": [
    "reverse_array= a[::-1]\n",
    "print(reverse_array)"
   ]
  },
  {
   "cell_type": "code",
   "execution_count": null,
   "id": "347f0b91",
   "metadata": {},
   "outputs": [],
   "source": []
  },
  {
   "cell_type": "code",
   "execution_count": 15,
   "id": "d27a3392",
   "metadata": {},
   "outputs": [
    {
     "name": "stdout",
     "output_type": "stream",
     "text": [
      "[[ 1  2  3  4  5]\n",
      " [ 6  7  8  9 10]]\n"
     ]
    }
   ],
   "source": [
    "b=np.array([[1,2,3,4,5], [6,7,8,9,10]])\n",
    "print(b)"
   ]
  },
  {
   "cell_type": "code",
   "execution_count": 17,
   "id": "54cb7018",
   "metadata": {},
   "outputs": [
    {
     "name": "stdout",
     "output_type": "stream",
     "text": [
      "[[ 1  2  3  4  5]\n",
      " [ 6  7  8  9 10]]\n"
     ]
    }
   ],
   "source": [
    "c=b\n",
    "print(c)"
   ]
  },
  {
   "cell_type": "code",
   "execution_count": 18,
   "id": "7263324c",
   "metadata": {},
   "outputs": [
    {
     "name": "stdout",
     "output_type": "stream",
     "text": [
      "7\n"
     ]
    }
   ],
   "source": [
    "print(b[1,1])"
   ]
  },
  {
   "cell_type": "code",
   "execution_count": 20,
   "id": "afda5d27",
   "metadata": {},
   "outputs": [
    {
     "name": "stdout",
     "output_type": "stream",
     "text": [
      "[2 7]\n"
     ]
    }
   ],
   "source": [
    "print(b[:,1])"
   ]
  },
  {
   "cell_type": "code",
   "execution_count": 21,
   "id": "57a49d4d",
   "metadata": {},
   "outputs": [
    {
     "name": "stdout",
     "output_type": "stream",
     "text": [
      "[ 6  7  8  9 10]\n"
     ]
    }
   ],
   "source": [
    "print(b[1,:])"
   ]
  },
  {
   "cell_type": "code",
   "execution_count": 22,
   "id": "e79cb15a",
   "metadata": {},
   "outputs": [
    {
     "name": "stdout",
     "output_type": "stream",
     "text": [
      "[7 8 9]\n"
     ]
    }
   ],
   "source": [
    "print(b[1,1:4])"
   ]
  },
  {
   "cell_type": "code",
   "execution_count": 23,
   "id": "bfd62518",
   "metadata": {},
   "outputs": [
    {
     "name": "stdout",
     "output_type": "stream",
     "text": [
      "[ 6  7  8  9 10]\n"
     ]
    }
   ],
   "source": [
    "print(b[-1, :])"
   ]
  },
  {
   "cell_type": "code",
   "execution_count": 24,
   "id": "fbca7db1",
   "metadata": {},
   "outputs": [
    {
     "name": "stdout",
     "output_type": "stream",
     "text": [
      "[ 5 10]\n"
     ]
    }
   ],
   "source": [
    "print(b[:, -1])"
   ]
  },
  {
   "cell_type": "markdown",
   "id": "7127f4dd",
   "metadata": {},
   "source": [
    "Pandas Overview"
   ]
  },
  {
   "cell_type": "code",
   "execution_count": 25,
   "id": "2a167702",
   "metadata": {},
   "outputs": [],
   "source": [
    "import pandas as pd"
   ]
  },
  {
   "cell_type": "code",
   "execution_count": 26,
   "id": "1392b635",
   "metadata": {},
   "outputs": [
    {
     "name": "stdout",
     "output_type": "stream",
     "text": [
      "      name  age  note\n",
      "0      ali   23   100\n",
      "1  hussein   22    99\n",
      "2    yusuf   66    98\n",
      "3   mansur   26    97\n",
      "4     huda   27    96\n",
      "5   ehsaan   17    95\n",
      "6    rawda   29    94\n"
     ]
    }
   ],
   "source": [
    "dictionary={\"name\":[\"ali\", \"hussein\", \"yusuf\", \"mansur\", \"huda\", \"ehsaan\", \"rawda\"],\n",
    "           \"age\":[23,22,66,26,27,17,29],\n",
    "           \"note\":[100,99,98,97,96,95,94]}\n",
    "dataframe1= pd.DataFrame(dictionary)\n",
    "print(dataframe1)"
   ]
  },
  {
   "cell_type": "code",
   "execution_count": 28,
   "id": "e578597e",
   "metadata": {},
   "outputs": [
    {
     "name": "stdout",
     "output_type": "stream",
     "text": [
      "           Date        Open        High         Low       Close   Adj Close  \\\n",
      "0    2022-03-15  127.741501  130.517242  126.568001  129.660507  129.660507   \n",
      "1    2022-03-16  131.000000  133.770996  129.201004  133.690506  133.690506   \n",
      "2    2022-03-17  133.320999  134.739502  132.718994  134.600494  134.600494   \n",
      "3    2022-03-18  133.884003  136.913498  132.932007  136.801498  136.801498   \n",
      "4    2022-03-21  136.847504  137.582504  134.611496  136.478500  136.478500   \n",
      "..          ...         ...         ...         ...         ...         ...   \n",
      "247  2023-03-09   94.489998   95.919998   92.355003   92.660004   92.660004   \n",
      "248  2023-03-10   92.500000   93.180000   90.800003   91.010002   91.010002   \n",
      "249  2023-03-13   90.565002   93.080002   89.940002   91.660004   91.660004   \n",
      "250  2023-03-14   93.070000   94.830002   92.779999   94.250000   94.250000   \n",
      "251  2023-03-15   93.540001   97.250000   93.040001   96.550003   96.550003   \n",
      "\n",
      "       Volume  \n",
      "0    30292000  \n",
      "1    32058000  \n",
      "2    23994000  \n",
      "3    45900000  \n",
      "4    26632000  \n",
      "..        ...  \n",
      "247  24438900  \n",
      "248  32831700  \n",
      "249  31508600  \n",
      "250  32303900  \n",
      "251  36816351  \n",
      "\n",
      "[252 rows x 7 columns]\n"
     ]
    }
   ],
   "source": [
    "df= pd.read_csv(\"C:/Users/USER/Desktop/GOOG.csv\")\n",
    "print(df)"
   ]
  },
  {
   "cell_type": "code",
   "execution_count": 29,
   "id": "4bf9b370",
   "metadata": {},
   "outputs": [
    {
     "name": "stdout",
     "output_type": "stream",
     "text": [
      "Index(['name', 'age', 'note'], dtype='object')\n",
      "<class 'pandas.core.frame.DataFrame'>\n",
      "RangeIndex: 7 entries, 0 to 6\n",
      "Data columns (total 3 columns):\n",
      " #   Column  Non-Null Count  Dtype \n",
      "---  ------  --------------  ----- \n",
      " 0   name    7 non-null      object\n",
      " 1   age     7 non-null      int64 \n",
      " 2   note    7 non-null      int64 \n",
      "dtypes: int64(2), object(1)\n",
      "memory usage: 296.0+ bytes\n",
      "None\n",
      "name    object\n",
      "age      int64\n",
      "note     int64\n",
      "dtype: object\n",
      "             age        note\n",
      "count   7.000000    7.000000\n",
      "mean   30.000000   97.000000\n",
      "std    16.350331    2.160247\n",
      "min    17.000000   94.000000\n",
      "25%    22.500000   95.500000\n",
      "50%    26.000000   97.000000\n",
      "75%    28.000000   98.500000\n",
      "max    66.000000  100.000000\n"
     ]
    }
   ],
   "source": [
    "print(dataframe1.columns)\n",
    "print(dataframe1.info())\n",
    "print(dataframe1.dtypes)\n",
    "print(dataframe1.describe())"
   ]
  },
  {
   "cell_type": "code",
   "execution_count": 30,
   "id": "6baa211f",
   "metadata": {},
   "outputs": [
    {
     "name": "stdout",
     "output_type": "stream",
     "text": [
      "0        ali\n",
      "1    hussein\n",
      "2      yusuf\n",
      "3     mansur\n",
      "4       huda\n",
      "5     ehsaan\n",
      "6      rawda\n",
      "Name: name, dtype: object\n"
     ]
    }
   ],
   "source": [
    "print(dataframe1[\"name\"])"
   ]
  },
  {
   "cell_type": "code",
   "execution_count": 31,
   "id": "a340aa37",
   "metadata": {},
   "outputs": [
    {
     "name": "stdout",
     "output_type": "stream",
     "text": [
      "0    23\n",
      "1    22\n",
      "2    66\n",
      "3    26\n",
      "4    27\n",
      "5    17\n",
      "6    29\n",
      "Name: age, dtype: int64\n"
     ]
    }
   ],
   "source": [
    "print(dataframe1[\"age\"])"
   ]
  },
  {
   "cell_type": "code",
   "execution_count": 33,
   "id": "7acedafb",
   "metadata": {},
   "outputs": [
    {
     "name": "stdout",
     "output_type": "stream",
     "text": [
      "0    23\n",
      "1    22\n",
      "2    66\n",
      "3    26\n",
      "4    27\n",
      "5    17\n",
      "6    29\n",
      "Name: age, dtype: int64\n"
     ]
    }
   ],
   "source": [
    "print(dataframe1.loc[:,\"age\"])"
   ]
  },
  {
   "cell_type": "code",
   "execution_count": 39,
   "id": "4c6bc2a1",
   "metadata": {},
   "outputs": [
    {
     "name": "stdout",
     "output_type": "stream",
     "text": [
      "0    23\n",
      "1    22\n",
      "2    66\n",
      "3    26\n",
      "Name: age, dtype: int64\n",
      "      name  age  note\n",
      "0      ali   23   100\n",
      "1  hussein   22    99\n",
      "2    yusuf   66    98\n",
      "3   mansur   26    97\n",
      "      name  age  note  new_future\n",
      "6    rawda   29    94           7\n",
      "5   ehsaan   17    95           6\n",
      "4     huda   27    96           5\n",
      "3   mansur   26    97           4\n",
      "2    yusuf   66    98           3\n",
      "1  hussein   22    99           2\n",
      "0      ali   23   100           1\n"
     ]
    }
   ],
   "source": [
    "dataframe1[\"new_future\"]= [1,2,3,4,5,6,7]\n",
    "print(dataframe1.loc[:3, \"age\"])\n",
    "print(dataframe1.loc[:3, \"name\":\"note\"])\n",
    "print(dataframe1.loc[::-1])"
   ]
  },
  {
   "cell_type": "code",
   "execution_count": 42,
   "id": "7f5c583b",
   "metadata": {},
   "outputs": [
    {
     "name": "stdout",
     "output_type": "stream",
     "text": [
      "   age   bool\n",
      "0   23  False\n",
      "1   22  False\n",
      "2   66   True\n",
      "3   26   True\n",
      "4   27   True\n",
      "5   17  False\n",
      "6   29   True\n"
     ]
    }
   ],
   "source": [
    "filter1= dataframe1.age>23\n",
    "dataframe1[\"bool\"]=filter1\n",
    "print(dataframe1.loc[:, [\"age\", \"bool\"]])\n"
   ]
  },
  {
   "cell_type": "code",
   "execution_count": 43,
   "id": "b49f4eb9",
   "metadata": {},
   "outputs": [
    {
     "name": "stdout",
     "output_type": "stream",
     "text": [
      "     name  age  note  new_future  bool\n",
      "2   yusuf   66    98           3  True\n",
      "3  mansur   26    97           4  True\n",
      "4    huda   27    96           5  True\n",
      "6   rawda   29    94           7  True\n"
     ]
    }
   ],
   "source": [
    "filter2= dataframe1.note<99\n",
    "fdata=dataframe1[filter2&filter1]\n",
    "print(fdata)"
   ]
  },
  {
   "cell_type": "code",
   "execution_count": 48,
   "id": "53ddf1c9",
   "metadata": {},
   "outputs": [
    {
     "data": {
      "text/html": [
       "<div>\n",
       "<style scoped>\n",
       "    .dataframe tbody tr th:only-of-type {\n",
       "        vertical-align: middle;\n",
       "    }\n",
       "\n",
       "    .dataframe tbody tr th {\n",
       "        vertical-align: top;\n",
       "    }\n",
       "\n",
       "    .dataframe thead th {\n",
       "        text-align: right;\n",
       "    }\n",
       "</style>\n",
       "<table border=\"1\" class=\"dataframe\">\n",
       "  <thead>\n",
       "    <tr style=\"text-align: right;\">\n",
       "      <th></th>\n",
       "      <th>name</th>\n",
       "      <th>age</th>\n",
       "      <th>note</th>\n",
       "      <th>new_future</th>\n",
       "      <th>bool</th>\n",
       "      <th>situation</th>\n",
       "    </tr>\n",
       "  </thead>\n",
       "  <tbody>\n",
       "    <tr>\n",
       "      <th>0</th>\n",
       "      <td>ali</td>\n",
       "      <td>23</td>\n",
       "      <td>100</td>\n",
       "      <td>1</td>\n",
       "      <td>False</td>\n",
       "      <td>above average</td>\n",
       "    </tr>\n",
       "    <tr>\n",
       "      <th>1</th>\n",
       "      <td>hussein</td>\n",
       "      <td>22</td>\n",
       "      <td>99</td>\n",
       "      <td>2</td>\n",
       "      <td>False</td>\n",
       "      <td>above average</td>\n",
       "    </tr>\n",
       "    <tr>\n",
       "      <th>2</th>\n",
       "      <td>yusuf</td>\n",
       "      <td>66</td>\n",
       "      <td>98</td>\n",
       "      <td>3</td>\n",
       "      <td>True</td>\n",
       "      <td>above average</td>\n",
       "    </tr>\n",
       "    <tr>\n",
       "      <th>3</th>\n",
       "      <td>mansur</td>\n",
       "      <td>26</td>\n",
       "      <td>97</td>\n",
       "      <td>4</td>\n",
       "      <td>True</td>\n",
       "      <td>above average</td>\n",
       "    </tr>\n",
       "    <tr>\n",
       "      <th>4</th>\n",
       "      <td>huda</td>\n",
       "      <td>27</td>\n",
       "      <td>96</td>\n",
       "      <td>5</td>\n",
       "      <td>True</td>\n",
       "      <td>below average</td>\n",
       "    </tr>\n",
       "    <tr>\n",
       "      <th>5</th>\n",
       "      <td>ehsaan</td>\n",
       "      <td>17</td>\n",
       "      <td>95</td>\n",
       "      <td>6</td>\n",
       "      <td>False</td>\n",
       "      <td>below average</td>\n",
       "    </tr>\n",
       "    <tr>\n",
       "      <th>6</th>\n",
       "      <td>rawda</td>\n",
       "      <td>29</td>\n",
       "      <td>94</td>\n",
       "      <td>7</td>\n",
       "      <td>True</td>\n",
       "      <td>below average</td>\n",
       "    </tr>\n",
       "  </tbody>\n",
       "</table>\n",
       "</div>"
      ],
      "text/plain": [
       "      name  age  note  new_future   bool      situation\n",
       "0      ali   23   100           1  False  above average\n",
       "1  hussein   22    99           2  False  above average\n",
       "2    yusuf   66    98           3   True  above average\n",
       "3   mansur   26    97           4   True  above average\n",
       "4     huda   27    96           5   True  below average\n",
       "5   ehsaan   17    95           6  False  below average\n",
       "6    rawda   29    94           7   True  below average"
      ]
     },
     "execution_count": 48,
     "metadata": {},
     "output_type": "execute_result"
    }
   ],
   "source": [
    "dataframe1.dropna(inplace=True)\n",
    "dataframe1\n",
    "dataframe1[\"situation\"]=[\"below average\" if dataframe1.note.mean()>each else \"above average\" for each in dataframe1.note]\n",
    "dataframe1"
   ]
  },
  {
   "cell_type": "code",
   "execution_count": 49,
   "id": "1703cf77",
   "metadata": {},
   "outputs": [
    {
     "data": {
      "text/html": [
       "<div>\n",
       "<style scoped>\n",
       "    .dataframe tbody tr th:only-of-type {\n",
       "        vertical-align: middle;\n",
       "    }\n",
       "\n",
       "    .dataframe tbody tr th {\n",
       "        vertical-align: top;\n",
       "    }\n",
       "\n",
       "    .dataframe thead th {\n",
       "        text-align: right;\n",
       "    }\n",
       "</style>\n",
       "<table border=\"1\" class=\"dataframe\">\n",
       "  <thead>\n",
       "    <tr style=\"text-align: right;\">\n",
       "      <th></th>\n",
       "      <th>name</th>\n",
       "      <th>age</th>\n",
       "      <th>note</th>\n",
       "      <th>new future</th>\n",
       "      <th>bool</th>\n",
       "      <th>situation</th>\n",
       "    </tr>\n",
       "  </thead>\n",
       "  <tbody>\n",
       "    <tr>\n",
       "      <th>0</th>\n",
       "      <td>ali</td>\n",
       "      <td>23</td>\n",
       "      <td>100</td>\n",
       "      <td>1</td>\n",
       "      <td>False</td>\n",
       "      <td>above average</td>\n",
       "    </tr>\n",
       "    <tr>\n",
       "      <th>1</th>\n",
       "      <td>hussein</td>\n",
       "      <td>22</td>\n",
       "      <td>99</td>\n",
       "      <td>1</td>\n",
       "      <td>False</td>\n",
       "      <td>above average</td>\n",
       "    </tr>\n",
       "    <tr>\n",
       "      <th>2</th>\n",
       "      <td>yusuf</td>\n",
       "      <td>66</td>\n",
       "      <td>98</td>\n",
       "      <td>1</td>\n",
       "      <td>True</td>\n",
       "      <td>above average</td>\n",
       "    </tr>\n",
       "    <tr>\n",
       "      <th>3</th>\n",
       "      <td>mansur</td>\n",
       "      <td>26</td>\n",
       "      <td>97</td>\n",
       "      <td>1</td>\n",
       "      <td>True</td>\n",
       "      <td>above average</td>\n",
       "    </tr>\n",
       "    <tr>\n",
       "      <th>4</th>\n",
       "      <td>huda</td>\n",
       "      <td>27</td>\n",
       "      <td>96</td>\n",
       "      <td>1</td>\n",
       "      <td>True</td>\n",
       "      <td>below average</td>\n",
       "    </tr>\n",
       "    <tr>\n",
       "      <th>5</th>\n",
       "      <td>ehsaan</td>\n",
       "      <td>17</td>\n",
       "      <td>95</td>\n",
       "      <td>1</td>\n",
       "      <td>False</td>\n",
       "      <td>below average</td>\n",
       "    </tr>\n",
       "    <tr>\n",
       "      <th>6</th>\n",
       "      <td>rawda</td>\n",
       "      <td>29</td>\n",
       "      <td>94</td>\n",
       "      <td>1</td>\n",
       "      <td>True</td>\n",
       "      <td>below average</td>\n",
       "    </tr>\n",
       "  </tbody>\n",
       "</table>\n",
       "</div>"
      ],
      "text/plain": [
       "      name  age  note  new future   bool      situation\n",
       "0      ali   23   100           1  False  above average\n",
       "1  hussein   22    99           1  False  above average\n",
       "2    yusuf   66    98           1   True  above average\n",
       "3   mansur   26    97           1   True  above average\n",
       "4     huda   27    96           1   True  below average\n",
       "5   ehsaan   17    95           1  False  below average\n",
       "6    rawda   29    94           1   True  below average"
      ]
     },
     "execution_count": 49,
     "metadata": {},
     "output_type": "execute_result"
    }
   ],
   "source": [
    "dataframe1[\"new_future\"]=[1,1,1,1,1,1,1]\n",
    "dataframe1.columns= [each.split('_')[0]+\" \"+each.split('_')[1] if len(each.split('_'))>1 else each for each in dataframe1.columns]\n",
    "dataframe1"
   ]
  },
  {
   "cell_type": "code",
   "execution_count": 51,
   "id": "d99bd2d8",
   "metadata": {},
   "outputs": [
    {
     "data": {
      "text/plain": [
       "Index(['NAME', 'AGE', 'NOTE', 'NEW FUTURE', 'BOOL', 'SITUATION'], dtype='object')"
      ]
     },
     "execution_count": 51,
     "metadata": {},
     "output_type": "execute_result"
    }
   ],
   "source": [
    "dataframe1.columns=[each.upper() for each in dataframe1.columns]\n",
    "dataframe1.columns"
   ]
  },
  {
   "cell_type": "code",
   "execution_count": 53,
   "id": "c75447d9",
   "metadata": {},
   "outputs": [
    {
     "data": {
      "text/html": [
       "<div>\n",
       "<style scoped>\n",
       "    .dataframe tbody tr th:only-of-type {\n",
       "        vertical-align: middle;\n",
       "    }\n",
       "\n",
       "    .dataframe tbody tr th {\n",
       "        vertical-align: top;\n",
       "    }\n",
       "\n",
       "    .dataframe thead th {\n",
       "        text-align: right;\n",
       "    }\n",
       "</style>\n",
       "<table border=\"1\" class=\"dataframe\">\n",
       "  <thead>\n",
       "    <tr style=\"text-align: right;\">\n",
       "      <th></th>\n",
       "      <th>NAME</th>\n",
       "      <th>AGE</th>\n",
       "      <th>NOTE</th>\n",
       "      <th>NEW FUTURE</th>\n",
       "      <th>BOOL</th>\n",
       "      <th>SITUATION</th>\n",
       "    </tr>\n",
       "  </thead>\n",
       "  <tbody>\n",
       "    <tr>\n",
       "      <th>0</th>\n",
       "      <td>ali</td>\n",
       "      <td>23</td>\n",
       "      <td>100</td>\n",
       "      <td>1</td>\n",
       "      <td>False</td>\n",
       "      <td>above average</td>\n",
       "    </tr>\n",
       "    <tr>\n",
       "      <th>1</th>\n",
       "      <td>hussein</td>\n",
       "      <td>22</td>\n",
       "      <td>99</td>\n",
       "      <td>1</td>\n",
       "      <td>False</td>\n",
       "      <td>above average</td>\n",
       "    </tr>\n",
       "    <tr>\n",
       "      <th>2</th>\n",
       "      <td>yusuf</td>\n",
       "      <td>66</td>\n",
       "      <td>98</td>\n",
       "      <td>1</td>\n",
       "      <td>True</td>\n",
       "      <td>above average</td>\n",
       "    </tr>\n",
       "    <tr>\n",
       "      <th>3</th>\n",
       "      <td>mansur</td>\n",
       "      <td>26</td>\n",
       "      <td>97</td>\n",
       "      <td>1</td>\n",
       "      <td>True</td>\n",
       "      <td>above average</td>\n",
       "    </tr>\n",
       "    <tr>\n",
       "      <th>4</th>\n",
       "      <td>huda</td>\n",
       "      <td>27</td>\n",
       "      <td>96</td>\n",
       "      <td>1</td>\n",
       "      <td>True</td>\n",
       "      <td>below average</td>\n",
       "    </tr>\n",
       "    <tr>\n",
       "      <th>2</th>\n",
       "      <td>yusuf</td>\n",
       "      <td>66</td>\n",
       "      <td>98</td>\n",
       "      <td>1</td>\n",
       "      <td>True</td>\n",
       "      <td>above average</td>\n",
       "    </tr>\n",
       "    <tr>\n",
       "      <th>3</th>\n",
       "      <td>mansur</td>\n",
       "      <td>26</td>\n",
       "      <td>97</td>\n",
       "      <td>1</td>\n",
       "      <td>True</td>\n",
       "      <td>above average</td>\n",
       "    </tr>\n",
       "    <tr>\n",
       "      <th>4</th>\n",
       "      <td>huda</td>\n",
       "      <td>27</td>\n",
       "      <td>96</td>\n",
       "      <td>1</td>\n",
       "      <td>True</td>\n",
       "      <td>below average</td>\n",
       "    </tr>\n",
       "    <tr>\n",
       "      <th>5</th>\n",
       "      <td>ehsaan</td>\n",
       "      <td>17</td>\n",
       "      <td>95</td>\n",
       "      <td>1</td>\n",
       "      <td>False</td>\n",
       "      <td>below average</td>\n",
       "    </tr>\n",
       "    <tr>\n",
       "      <th>6</th>\n",
       "      <td>rawda</td>\n",
       "      <td>29</td>\n",
       "      <td>94</td>\n",
       "      <td>1</td>\n",
       "      <td>True</td>\n",
       "      <td>below average</td>\n",
       "    </tr>\n",
       "  </tbody>\n",
       "</table>\n",
       "</div>"
      ],
      "text/plain": [
       "      NAME  AGE  NOTE  NEW FUTURE   BOOL      SITUATION\n",
       "0      ali   23   100           1  False  above average\n",
       "1  hussein   22    99           1  False  above average\n",
       "2    yusuf   66    98           1   True  above average\n",
       "3   mansur   26    97           1   True  above average\n",
       "4     huda   27    96           1   True  below average\n",
       "2    yusuf   66    98           1   True  above average\n",
       "3   mansur   26    97           1   True  above average\n",
       "4     huda   27    96           1   True  below average\n",
       "5   ehsaan   17    95           1  False  below average\n",
       "6    rawda   29    94           1   True  below average"
      ]
     },
     "execution_count": 53,
     "metadata": {},
     "output_type": "execute_result"
    }
   ],
   "source": [
    "data1= dataframe1.head()\n",
    "data2= dataframe1.tail()\n",
    "data_concat= pd.concat([data1, data2], axis=0)\n",
    "data_concat"
   ]
  },
  {
   "cell_type": "code",
   "execution_count": 55,
   "id": "71f2ed3b",
   "metadata": {},
   "outputs": [
    {
     "data": {
      "text/html": [
       "<div>\n",
       "<style scoped>\n",
       "    .dataframe tbody tr th:only-of-type {\n",
       "        vertical-align: middle;\n",
       "    }\n",
       "\n",
       "    .dataframe tbody tr th {\n",
       "        vertical-align: top;\n",
       "    }\n",
       "\n",
       "    .dataframe thead th {\n",
       "        text-align: right;\n",
       "    }\n",
       "</style>\n",
       "<table border=\"1\" class=\"dataframe\">\n",
       "  <thead>\n",
       "    <tr style=\"text-align: right;\">\n",
       "      <th></th>\n",
       "      <th>NAME</th>\n",
       "      <th>AGE</th>\n",
       "      <th>NOTE</th>\n",
       "      <th>NEW FUTURE</th>\n",
       "      <th>BOOL</th>\n",
       "      <th>SITUATION</th>\n",
       "      <th>new_age</th>\n",
       "      <th>apply_method</th>\n",
       "    </tr>\n",
       "  </thead>\n",
       "  <tbody>\n",
       "    <tr>\n",
       "      <th>0</th>\n",
       "      <td>ali</td>\n",
       "      <td>23</td>\n",
       "      <td>100</td>\n",
       "      <td>1</td>\n",
       "      <td>False</td>\n",
       "      <td>above average</td>\n",
       "      <td>46</td>\n",
       "      <td>46</td>\n",
       "    </tr>\n",
       "    <tr>\n",
       "      <th>1</th>\n",
       "      <td>hussein</td>\n",
       "      <td>22</td>\n",
       "      <td>99</td>\n",
       "      <td>1</td>\n",
       "      <td>False</td>\n",
       "      <td>above average</td>\n",
       "      <td>44</td>\n",
       "      <td>44</td>\n",
       "    </tr>\n",
       "    <tr>\n",
       "      <th>2</th>\n",
       "      <td>yusuf</td>\n",
       "      <td>66</td>\n",
       "      <td>98</td>\n",
       "      <td>1</td>\n",
       "      <td>True</td>\n",
       "      <td>above average</td>\n",
       "      <td>132</td>\n",
       "      <td>132</td>\n",
       "    </tr>\n",
       "    <tr>\n",
       "      <th>3</th>\n",
       "      <td>mansur</td>\n",
       "      <td>26</td>\n",
       "      <td>97</td>\n",
       "      <td>1</td>\n",
       "      <td>True</td>\n",
       "      <td>above average</td>\n",
       "      <td>52</td>\n",
       "      <td>52</td>\n",
       "    </tr>\n",
       "    <tr>\n",
       "      <th>4</th>\n",
       "      <td>huda</td>\n",
       "      <td>27</td>\n",
       "      <td>96</td>\n",
       "      <td>1</td>\n",
       "      <td>True</td>\n",
       "      <td>below average</td>\n",
       "      <td>54</td>\n",
       "      <td>54</td>\n",
       "    </tr>\n",
       "    <tr>\n",
       "      <th>5</th>\n",
       "      <td>ehsaan</td>\n",
       "      <td>17</td>\n",
       "      <td>95</td>\n",
       "      <td>1</td>\n",
       "      <td>False</td>\n",
       "      <td>below average</td>\n",
       "      <td>34</td>\n",
       "      <td>34</td>\n",
       "    </tr>\n",
       "    <tr>\n",
       "      <th>6</th>\n",
       "      <td>rawda</td>\n",
       "      <td>29</td>\n",
       "      <td>94</td>\n",
       "      <td>1</td>\n",
       "      <td>True</td>\n",
       "      <td>below average</td>\n",
       "      <td>58</td>\n",
       "      <td>58</td>\n",
       "    </tr>\n",
       "  </tbody>\n",
       "</table>\n",
       "</div>"
      ],
      "text/plain": [
       "      NAME  AGE  NOTE  NEW FUTURE   BOOL      SITUATION  new_age  apply_method\n",
       "0      ali   23   100           1  False  above average       46            46\n",
       "1  hussein   22    99           1  False  above average       44            44\n",
       "2    yusuf   66    98           1   True  above average      132           132\n",
       "3   mansur   26    97           1   True  above average       52            52\n",
       "4     huda   27    96           1   True  below average       54            54\n",
       "5   ehsaan   17    95           1  False  below average       34            34\n",
       "6    rawda   29    94           1   True  below average       58            58"
      ]
     },
     "execution_count": 55,
     "metadata": {},
     "output_type": "execute_result"
    }
   ],
   "source": [
    "dataframe1[\"new_age\"]=[each*2 for each in dataframe1.AGE]\n",
    "def mlt(ag):\n",
    "    return ag*2\n",
    "dataframe1[\"apply_method\"]=dataframe1.AGE.apply(mlt)\n",
    "dataframe1"
   ]
  },
  {
   "cell_type": "markdown",
   "id": "4dd33d12",
   "metadata": {},
   "source": [
    "Matplotlib"
   ]
  },
  {
   "cell_type": "code",
   "execution_count": 61,
   "id": "c94eb0c0",
   "metadata": {},
   "outputs": [
    {
     "data": {
      "image/png": "[encoded data removed]",
      "text/plain": [
       "<Figure size 640x480 with 1 Axes>"
      ]
     },
     "metadata": {},
     "output_type": "display_data"
    }
   ],
   "source": [
    "import matplotlib.pyplot as plt\n",
    "import numpy as np\n",
    "\n",
    "#data\n",
    "data= np.random.randn(1000)\n",
    "\n",
    "#graph\n",
    "plt.hist(data, bins=30)\n",
    "\n",
    "#detrmine chart properties\n",
    "plt.title(\"Histogram\")\n",
    "plt.xlabel(\"Values\")\n",
    "plt.ylabel(\"Frequency\")\n",
    "\n",
    "#show graphics\n",
    "plt.show()"
   ]
  },
  {
   "cell_type": "code",
   "execution_count": 62,
   "id": "a5acd308",
   "metadata": {},
   "outputs": [
    {
     "data": {
      "image/png": "[encoded data removed]",
      "text/plain": [
       "<Figure size 640x480 with 1 Axes>"
      ]
     },
     "metadata": {},
     "output_type": "display_data"
    }
   ],
   "source": [
    "import matplotlib.pyplot as plt\n",
    "\n",
    "#data\n",
    "sizes= [30,25,15,10,5,5]\n",
    "\n",
    "#graph creation\n",
    "plt.pie(sizes)\n",
    "\n",
    "#determine chart properties\n",
    "plt.title(\"Pie Chart\")\n",
    "\n",
    "#show graphics\n",
    "plt.show()"
   ]
  },
  {
   "cell_type": "code",
   "execution_count": null,
   "id": "9fd190cd",
   "metadata": {},
   "outputs": [],
   "source": []
  }
 ],
 "metadata": {
  "kernelspec": {
   "display_name": "Python 3 (ipykernel)",
   "language": "python",
   "name": "python3"
  },
  "language_info": {
   "codemirror_mode": {
    "name": "ipython",
    "version": 3
   },
   "file_extension": ".py",
   "mimetype": "text/x-python",
   "name": "python",
   "nbconvert_exporter": "python",
   "pygments_lexer": "ipython3",
   "version": "3.9.13"
  }
 },
 "nbformat": 4,
 "nbformat_minor": 5
}
